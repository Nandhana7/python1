{
 "cells": [
  {
   "cell_type": "code",
   "execution_count": 1,
   "id": "69f084e6",
   "metadata": {},
   "outputs": [
    {
     "name": "stdout",
     "output_type": "stream",
     "text": [
      "enter a string:anu\n",
      "3\n"
     ]
    }
   ],
   "source": [
    "a=input(\"enter a string:\")\n",
    "count=0\n",
    "for i in a:\n",
    "    count+=1\n",
    "print(count)"
   ]
  },
  {
   "cell_type": "code",
   "execution_count": 2,
   "id": "d8f70b05",
   "metadata": {},
   "outputs": [
    {
     "name": "stdout",
     "output_type": "stream",
     "text": [
      "enter a string:anu\n",
      "number of words in a string:\n",
      "1\n",
      "number of character in the string:\n",
      "3\n"
     ]
    }
   ],
   "source": [
    "a=input(\"enter a string:\")\n",
    "char=0\n",
    "word=1\n",
    "for i in a:\n",
    "    char=char+1\n",
    "    if(i==''):\n",
    "        word=word+1\n",
    "print(\"number of words in a string:\")\n",
    "print(word)\n",
    "print(\"number of character in the string:\")\n",
    "print(char)"
   ]
  },
  {
   "cell_type": "code",
   "execution_count": 3,
   "id": "7397c92f",
   "metadata": {},
   "outputs": [
    {
     "name": "stdout",
     "output_type": "stream",
     "text": [
      "enter a string:anu\n",
      "the string is -a-n-u-\n"
     ]
    }
   ],
   "source": [
    "a=input(\"enter a string:\")\n",
    "a=a.replace(\"\",\"-\")\n",
    "print(\"the string is\",a)"
   ]
  },
  {
   "cell_type": "code",
   "execution_count": 4,
   "id": "6b24e8ab",
   "metadata": {},
   "outputs": [
    {
     "name": "stdout",
     "output_type": "stream",
     "text": [
      "enter a string:anu\n",
      "the number of lower case is: 3\n"
     ]
    }
   ],
   "source": [
    "a=input(\"enter a string:\")\n",
    "count=0\n",
    "for i in a:\n",
    "    if(i.islower()):\n",
    "              count=count+1\n",
    "print(\"the number of lower case is:\",count)\n",
    "          "
   ]
  },
  {
   "cell_type": "code",
   "execution_count": 5,
   "id": "e5467b83",
   "metadata": {},
   "outputs": [
    {
     "name": "stdout",
     "output_type": "stream",
     "text": [
      "enter a string:anu\n",
      "the number of vowels is: 2\n"
     ]
    }
   ],
   "source": [
    "a=input(\"enter a string:\")\n",
    "vowels=0\n",
    "for i in a:\n",
    "    if(i=='a'or i=='e'or i=='i'or i=='o' or i=='u'or i=='A'or i=='E'or i=='I'or i=='O'or i=='U'):\n",
    "        vowels=vowels+1\n",
    "print(\"the number of vowels is:\",vowels)"
   ]
  },
  {
   "cell_type": "code",
   "execution_count": 6,
   "id": "269be3a7",
   "metadata": {},
   "outputs": [
    {
     "name": "stdout",
     "output_type": "stream",
     "text": [
      "enter a first string:anu\n",
      "enter a second string:nandana\n",
      "the common letters are:\n",
      "a\n",
      "n\n"
     ]
    }
   ],
   "source": [
    "s1=input(\"enter a first string:\")\n",
    "s2=input(\"enter a second string:\")\n",
    "a=list(set(s1)&set(s2))\n",
    "print(\"the common letters are:\")\n",
    "for i in a:\n",
    "    print(i)\n"
   ]
  },
  {
   "cell_type": "code",
   "execution_count": 11,
   "id": "c0c475e8",
   "metadata": {},
   "outputs": [
    {
     "name": "stdout",
     "output_type": "stream",
     "text": [
      "enter a string:ana\n",
      "the string is palindrom\n"
     ]
    }
   ],
   "source": [
    "string=input(\"enter a string:\")\n",
    "if(string==string[::-1]):\n",
    "    print(\"the string is palindrom\")\n",
    "else:\n",
    "    print(\"the string is not palindrom\")\n"
   ]
  },
  {
   "cell_type": "code",
   "execution_count": 21,
   "id": "d8a745a7",
   "metadata": {},
   "outputs": [
    {
     "name": "stdout",
     "output_type": "stream",
     "text": [
      "enter a number:7\n",
      "is not the power of two\n"
     ]
    }
   ],
   "source": [
    "def find(n):\n",
    "    if n<=0:\n",
    "        return false\n",
    "    else:\n",
    "         return n &(n-1)==0\n",
    "n=int(input(\"enter a number:\"))\n",
    "if find(n):\n",
    "    print('is a power of two'.format(n))\n",
    "else:\n",
    "    print('is not the power of two'.format(n))\n",
    "    "
   ]
  },
  {
   "cell_type": "code",
   "execution_count": 27,
   "id": "af7d3fb5",
   "metadata": {},
   "outputs": [
    {
     "name": "stdout",
     "output_type": "stream",
     "text": [
      "enter a first number2\n",
      "enter a second number4\n",
      "8\n"
     ]
    }
   ],
   "source": [
    "num1=int(input(\"enter a first number\"))\n",
    "num2=int(input(\"enter a second number\"))\n",
    "c=num1*num2\n",
    "print(c)\n",
    "    "
   ]
  },
  {
   "cell_type": "code",
   "execution_count": 30,
   "id": "2aa63777",
   "metadata": {},
   "outputs": [
    {
     "name": "stdout",
     "output_type": "stream",
     "text": [
      "enter the lower range:3\n",
      "enter the upper range40\n",
      "[4, 9, 16, 25, 36]\n"
     ]
    }
   ],
   "source": [
    "a=int(input(\"enter the lower range:\"))\n",
    "b=int(input(\"enter the upper range\"))\n",
    "c=[]\n",
    "c=[x for x in range(a,b+1) if (int(x**0.5))**2==x and sum(list(map(int,str(x))))<10]\n",
    "print(c)"
   ]
  },
  {
   "cell_type": "code",
   "execution_count": null,
   "id": "24454e05",
   "metadata": {},
   "outputs": [],
   "source": []
  }
 ],
 "metadata": {
  "kernelspec": {
   "display_name": "Python 3 (ipykernel)",
   "language": "python",
   "name": "python3"
  },
  "language_info": {
   "codemirror_mode": {
    "name": "ipython",
    "version": 3
   },
   "file_extension": ".py",
   "mimetype": "text/x-python",
   "name": "python",
   "nbconvert_exporter": "python",
   "pygments_lexer": "ipython3",
   "version": "3.9.12"
  }
 },
 "nbformat": 4,
 "nbformat_minor": 5
}
