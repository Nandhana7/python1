{
 "cells": [
  {
   "cell_type": "code",
   "execution_count": null,
   "id": "01b06533",
   "metadata": {},
   "outputs": [],
   "source": [
    "a=10\n",
    "b=20\n",
    "c=a+b\n",
    "print(c)"
   ]
  },
  {
   "cell_type": "code",
   "execution_count": null,
   "id": "b3a00fa8",
   "metadata": {},
   "outputs": [],
   "source": [
    "a=10\n",
    "b=20\n",
    "print(a+b)"
   ]
  },
  {
   "cell_type": "code",
   "execution_count": null,
   "id": "1136cf96",
   "metadata": {},
   "outputs": [],
   "source": [
    "a=10\n",
    "b=20\n",
    "print(10+20)"
   ]
  },
  {
   "cell_type": "code",
   "execution_count": null,
   "id": "171786ae",
   "metadata": {},
   "outputs": [],
   "source": [
    "a=10\n",
    "if a>0:\n",
    "    print(\"a is positive\")\n",
    "elif a<0:\n",
    "        print(\"a is negative\")\n",
    "else:\n",
    "            print(\"zero\")"
   ]
  },
  {
   "cell_type": "code",
   "execution_count": null,
   "id": "2f97765d",
   "metadata": {},
   "outputs": [],
   "source": [
    "a=int(input(\"enter the number\"))\n",
    "if a%5==0:\n",
    "    print(\"is multiple of 5\")\n",
    "else:\n",
    "    print(\"is not a multiple of 5\")"
   ]
  },
  {
   "cell_type": "code",
   "execution_count": null,
   "id": "f2b23964",
   "metadata": {},
   "outputs": [],
   "source": [
    "def CheckLeap(Year):\n",
    "    if((Year % 400 == 0) or (Year % 100 != 0 and Year % 4 == 0)):\n",
    "        print(\"Given Year is a leap Year\")\n",
    "    else:\n",
    "        print(\"Given Year is not a leap Year\")\n",
    "\n",
    "Year = int(input(\"Enter a year: \"))\n",
    "CheckLeap(Year)\n",
    "\n",
    "    \n"
   ]
  },
  {
   "cell_type": "code",
   "execution_count": null,
   "id": "31498c2d",
   "metadata": {},
   "outputs": [],
   "source": [
    "def calculate_discount(total_bill):\n",
    "    if total_bill > 1000:\n",
    "        discount = total_bill * 0.1\n",
    "        discounted_bill = total_bill - discount\n",
    "        print(\"Total bill amount: $\", total_bill)\n",
    "        print(\"Discount: $\", discount)\n",
    "        print(\"Discounted bill amount: $\", discounted_bill)\n",
    "    else:\n",
    "        print(\"Total bill amount: $\", total_bill)\n",
    "        print(\"No discount applied.\")\n",
    "total_bill = float(input(\"Enter the total bill amount: \"))\n",
    "calculate_discount(total_bill)\n"
   ]
  },
  {
   "cell_type": "code",
   "execution_count": null,
   "id": "9c16887e",
   "metadata": {},
   "outputs": [],
   "source": [
    "total_amount=int(input(\"enter the amount:\"))\n",
    "if total_amount>1000:\n",
    "    discount=total_amount * 0.1\n",
    "    total_discount_amount=total_amount-discount\n",
    "    print(\"discount\",discount)\n",
    "    print(\"total discount_amount\",total_discount_amount)"
   ]
  },
  {
   "cell_type": "code",
   "execution_count": null,
   "id": "8681f1c3",
   "metadata": {},
   "outputs": [],
   "source": []
  },
  {
   "cell_type": "code",
   "execution_count": null,
   "id": "a48f9ee0",
   "metadata": {},
   "outputs": [],
   "source": []
  },
  {
   "cell_type": "code",
   "execution_count": null,
   "id": "dda5c21b",
   "metadata": {},
   "outputs": [],
   "source": [
    "age=int(input(\"enter the age:\"))\n",
    "if age>=25:\n",
    "    print(\"person can vote and can contest an election\")\n",
    "elif age>=18:\n",
    "    print(\"person can only vote\")\n",
    "else:\n",
    "    print(\"not able to vote\")\n"
   ]
  },
  {
   "cell_type": "code",
   "execution_count": null,
   "id": "14106687",
   "metadata": {},
   "outputs": [],
   "source": [
    "b=\"hello world!\"\n",
    "print(b[2:5])"
   ]
  },
  {
   "cell_type": "code",
   "execution_count": null,
   "id": "041d1ea5",
   "metadata": {},
   "outputs": [],
   "source": [
    "b=\"hello world\"\n",
    "print(b[:5])"
   ]
  },
  {
   "cell_type": "code",
   "execution_count": null,
   "id": "3e4e4b52",
   "metadata": {},
   "outputs": [],
   "source": [
    "print(len(b))"
   ]
  },
  {
   "cell_type": "code",
   "execution_count": null,
   "id": "03ead1b9",
   "metadata": {},
   "outputs": [],
   "source": [
    "print(b[2:])"
   ]
  },
  {
   "cell_type": "code",
   "execution_count": null,
   "id": "1cfe4c26",
   "metadata": {},
   "outputs": [],
   "source": [
    "print(b[-5:-2])"
   ]
  },
  {
   "cell_type": "code",
   "execution_count": null,
   "id": "a089232a",
   "metadata": {},
   "outputs": [],
   "source": [
    "print(b.upper())"
   ]
  },
  {
   "cell_type": "code",
   "execution_count": null,
   "id": "419f899a",
   "metadata": {},
   "outputs": [],
   "source": [
    "print(b.lower())"
   ]
  },
  {
   "cell_type": "code",
   "execution_count": null,
   "id": "dc509d9a",
   "metadata": {},
   "outputs": [],
   "source": [
    "print(b.strip())"
   ]
  },
  {
   "cell_type": "code",
   "execution_count": null,
   "id": "8b6c6444",
   "metadata": {},
   "outputs": [],
   "source": [
    "print(b.replace(\"hello\",\"hy\"))"
   ]
  },
  {
   "cell_type": "code",
   "execution_count": null,
   "id": "7eae8e58",
   "metadata": {},
   "outputs": [],
   "source": [
    "print(b.split(\" \"))"
   ]
  },
  {
   "cell_type": "code",
   "execution_count": null,
   "id": "d12b78f3",
   "metadata": {},
   "outputs": [],
   "source": [
    "print(b.capitalize())"
   ]
  },
  {
   "cell_type": "code",
   "execution_count": null,
   "id": "8308f79e",
   "metadata": {},
   "outputs": [],
   "source": [
    "print(b.title())"
   ]
  },
  {
   "cell_type": "code",
   "execution_count": null,
   "id": "397372c8",
   "metadata": {},
   "outputs": [],
   "source": [
    "print(b.count(\"o\"))"
   ]
  },
  {
   "cell_type": "code",
   "execution_count": null,
   "id": "385eedb2",
   "metadata": {},
   "outputs": [],
   "source": [
    "b.find(\"o\")"
   ]
  },
  {
   "cell_type": "code",
   "execution_count": null,
   "id": "37a7fdf7",
   "metadata": {},
   "outputs": [],
   "source": [
    "b.find(\"hy\")"
   ]
  },
  {
   "cell_type": "code",
   "execution_count": null,
   "id": "133547db",
   "metadata": {},
   "outputs": [],
   "source": [
    "b.index(\"hello\")"
   ]
  },
  {
   "cell_type": "code",
   "execution_count": null,
   "id": "70f13fbd",
   "metadata": {},
   "outputs": [],
   "source": [
    "b.index(\"hy\")"
   ]
  },
  {
   "cell_type": "code",
   "execution_count": null,
   "id": "0d94ee31",
   "metadata": {},
   "outputs": [],
   "source": [
    "print(b.istitle())"
   ]
  },
  {
   "cell_type": "code",
   "execution_count": null,
   "id": "bf561bdd",
   "metadata": {},
   "outputs": [],
   "source": [
    "b.isupper()"
   ]
  },
  {
   "cell_type": "code",
   "execution_count": null,
   "id": "ff35f136",
   "metadata": {},
   "outputs": [],
   "source": [
    "b.islower()"
   ]
  },
  {
   "cell_type": "code",
   "execution_count": null,
   "id": "71a8dbd9",
   "metadata": {},
   "outputs": [],
   "source": []
  },
  {
   "cell_type": "code",
   "execution_count": null,
   "id": "7db471f6",
   "metadata": {},
   "outputs": [],
   "source": []
  },
  {
   "cell_type": "code",
   "execution_count": null,
   "id": "7c085338",
   "metadata": {},
   "outputs": [],
   "source": []
  },
  {
   "cell_type": "code",
   "execution_count": null,
   "id": "e4739795",
   "metadata": {},
   "outputs": [],
   "source": []
  }
 ],
 "metadata": {
  "kernelspec": {
   "display_name": "Python 3 (ipykernel)",
   "language": "python",
   "name": "python3"
  },
  "language_info": {
   "codemirror_mode": {
    "name": "ipython",
    "version": 3
   },
   "file_extension": ".py",
   "mimetype": "text/x-python",
   "name": "python",
   "nbconvert_exporter": "python",
   "pygments_lexer": "ipython3",
   "version": "3.9.12"
  }
 },
 "nbformat": 4,
 "nbformat_minor": 5
}
